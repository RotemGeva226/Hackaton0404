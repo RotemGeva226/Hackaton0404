{
 "cells": [
  {
   "metadata": {},
   "cell_type": "code",
   "outputs": [],
   "execution_count": null,
   "source": "#%pip install ",
   "id": "7b3325049b2bc6fe"
  },
  {
   "metadata": {
    "collapsed": true,
    "ExecuteTime": {
     "end_time": "2025-04-04T07:07:11.710823Z",
     "start_time": "2025-04-04T07:07:02.102821Z"
    }
   },
   "cell_type": "code",
   "outputs": [],
   "execution_count": 5,
   "source": "import pandas as pd\n",
   "id": "initial_id"
  },
  {
   "metadata": {},
   "cell_type": "markdown",
   "source": "",
   "id": "b965ce8754742ae5"
  },
  {
   "metadata": {
    "ExecuteTime": {
     "end_time": "2025-04-04T07:15:48.509500Z",
     "start_time": "2025-04-04T07:15:47.849309Z"
    }
   },
   "cell_type": "code",
   "source": [
    "# Use raw string (r\"\") or double backslashes to avoid path issues\n",
    "file_path = r\"C:\\Users\\yaniv\\OneDrive\\Desktop\\Datathon\\Hackaton0404\\ED_full_data.csv\"\n",
    "\n",
    "# Read the CSV file\n",
    "df = pd.read_csv(file_path)"
   ],
   "id": "574de9b0c2a3b764",
   "outputs": [],
   "execution_count": 18
  },
  {
   "metadata": {
    "ExecuteTime": {
     "end_time": "2025-04-04T07:15:48.532419Z",
     "start_time": "2025-04-04T07:15:48.522445Z"
    }
   },
   "cell_type": "code",
   "source": [
    "# Data length\n",
    "len(df)"
   ],
   "id": "2bcb3923ce1ffdba",
   "outputs": [
    {
     "data": {
      "text/plain": [
       "463897"
      ]
     },
     "execution_count": 19,
     "metadata": {},
     "output_type": "execute_result"
    }
   ],
   "execution_count": 19
  },
  {
   "metadata": {
    "ExecuteTime": {
     "end_time": "2025-04-04T07:15:48.970478Z",
     "start_time": "2025-04-04T07:15:48.885944Z"
    }
   },
   "cell_type": "code",
   "source": [
    "empty_rows = df[df.isna().any(axis=1)]\n",
    "print(empty_rows)"
   ],
   "id": "eb1794608419f024",
   "outputs": [
    {
     "name": "stdout",
     "output_type": "stream",
     "text": [
      "                     timestamp           department       room requirement  \\\n",
      "324     2024-05-13 05:42:00+00  מלרד טראומה בנין 16  חדר הלם 4  רמת דחיפות   \n",
      "663     2024-05-28 04:39:00+00  המחלקה לרפואה דחופה             רמת דחיפות   \n",
      "718     2024-05-28 06:38:00+00           מיון פנימי             רמת דחיפות   \n",
      "903     2024-05-28 11:40:00+00  המחלקה לרפואה דחופה             רמת דחיפות   \n",
      "950     2024-05-28 13:38:00+00  המחלקה לרפואה דחופה             רמת דחיפות   \n",
      "...                        ...                  ...        ...         ...   \n",
      "458042  2025-01-20 21:23:00+00              חדר הלם  חדר הלם 3  רמת דחיפות   \n",
      "458049  2025-01-20 21:26:00+00              חדר הלם  חדר הלם 2  רמת דחיפות   \n",
      "459806  2025-01-21 14:46:00+00              חדר הלם             רמת דחיפות   \n",
      "459820  2025-01-21 14:52:00+00        D מלרד מהלכים             רמת דחיפות   \n",
      "459854  2025-01-21 15:07:00+00              חדר הלם  חדר הלם 3  רמת דחיפות   \n",
      "\n",
      "       status  \n",
      "324       NaN  \n",
      "663       NaN  \n",
      "718       NaN  \n",
      "903       NaN  \n",
      "950       NaN  \n",
      "...       ...  \n",
      "458042    NaN  \n",
      "458049    NaN  \n",
      "459806    NaN  \n",
      "459820    NaN  \n",
      "459854    NaN  \n",
      "\n",
      "[601 rows x 5 columns]\n"
     ]
    }
   ],
   "execution_count": 20
  },
  {
   "metadata": {
    "ExecuteTime": {
     "end_time": "2025-04-04T07:15:49.998051Z",
     "start_time": "2025-04-04T07:15:49.876511Z"
    }
   },
   "cell_type": "code",
   "source": [
    "# Drop null cells\n",
    "\n",
    "df = df.dropna()"
   ],
   "id": "f6614e9de050293a",
   "outputs": [],
   "execution_count": 21
  },
  {
   "metadata": {
    "ExecuteTime": {
     "end_time": "2025-04-04T07:15:51.697258Z",
     "start_time": "2025-04-04T07:15:51.595231Z"
    }
   },
   "cell_type": "code",
   "source": "",
   "id": "e0018ad955c105a4",
   "outputs": [
    {
     "name": "stdout",
     "output_type": "stream",
     "text": [
      "Empty DataFrame\n",
      "Columns: [timestamp, department, room, requirement, status]\n",
      "Index: []\n"
     ]
    }
   ],
   "execution_count": 22
  },
  {
   "metadata": {},
   "cell_type": "code",
   "outputs": [],
   "execution_count": null,
   "source": "",
   "id": "3622c41ff33dc58c"
  },
  {
   "metadata": {},
   "cell_type": "code",
   "outputs": [],
   "execution_count": null,
   "source": "",
   "id": "80a382616966d17b"
  },
  {
   "metadata": {
    "ExecuteTime": {
     "end_time": "2025-04-04T07:16:43.053806Z",
     "start_time": "2025-04-04T07:16:43.041684Z"
    }
   },
   "cell_type": "code",
   "source": "df",
   "id": "f2e851541fcd8c3a",
   "outputs": [
    {
     "data": {
      "text/plain": [
       "                            timestamp               department  \\\n",
       "0          2023-11-08 08:12:03.787+00  מיון כירורגיה - מ.הלכים   \n",
       "1          2023-11-08 08:12:03.787+00               מיון פנימי   \n",
       "2       2024-03-18 10:08:57.218644+00                        A   \n",
       "3       2024-03-18 10:08:58.083959+00                        A   \n",
       "4       2024-03-18 13:54:53.606752+00               טראומה חדש   \n",
       "...                               ...                      ...   \n",
       "463892  2025-01-23 10:07:21.914702+00                        A   \n",
       "463893   2025-01-23 10:10:50.11309+00                        C   \n",
       "463894  2025-01-23 10:14:00.298704+00                        A   \n",
       "463895  2025-01-23 10:14:00.298704+00                        A   \n",
       "463896  2025-01-23 10:14:01.423535+00                        A   \n",
       "\n",
       "                  room    requirement     status  \n",
       "0              חדר הלם     רמת דחיפות          4  \n",
       "1       מיון קורונה ב`     רמת דחיפות          3  \n",
       "2                 A104   ניקיון تنظيف  satisfied  \n",
       "3                 A104   ניקיון تنظيف   required  \n",
       "4                   T5  כח עזר - אוכל  satisfied  \n",
       "...                ...            ...        ...  \n",
       "463892            A114     בדיקת רופא  satisfied  \n",
       "463893            C316     בדיקת רופא  satisfied  \n",
       "463894            A104       בדיקת דם   required  \n",
       "463895            A104           תפוס   required  \n",
       "463896            A104     בדיקת רופא   required  \n",
       "\n",
       "[463296 rows x 5 columns]"
      ],
      "text/html": [
       "<div>\n",
       "<style scoped>\n",
       "    .dataframe tbody tr th:only-of-type {\n",
       "        vertical-align: middle;\n",
       "    }\n",
       "\n",
       "    .dataframe tbody tr th {\n",
       "        vertical-align: top;\n",
       "    }\n",
       "\n",
       "    .dataframe thead th {\n",
       "        text-align: right;\n",
       "    }\n",
       "</style>\n",
       "<table border=\"1\" class=\"dataframe\">\n",
       "  <thead>\n",
       "    <tr style=\"text-align: right;\">\n",
       "      <th></th>\n",
       "      <th>timestamp</th>\n",
       "      <th>department</th>\n",
       "      <th>room</th>\n",
       "      <th>requirement</th>\n",
       "      <th>status</th>\n",
       "    </tr>\n",
       "  </thead>\n",
       "  <tbody>\n",
       "    <tr>\n",
       "      <th>0</th>\n",
       "      <td>2023-11-08 08:12:03.787+00</td>\n",
       "      <td>מיון כירורגיה - מ.הלכים</td>\n",
       "      <td>חדר הלם</td>\n",
       "      <td>רמת דחיפות</td>\n",
       "      <td>4</td>\n",
       "    </tr>\n",
       "    <tr>\n",
       "      <th>1</th>\n",
       "      <td>2023-11-08 08:12:03.787+00</td>\n",
       "      <td>מיון פנימי</td>\n",
       "      <td>מיון קורונה ב`</td>\n",
       "      <td>רמת דחיפות</td>\n",
       "      <td>3</td>\n",
       "    </tr>\n",
       "    <tr>\n",
       "      <th>2</th>\n",
       "      <td>2024-03-18 10:08:57.218644+00</td>\n",
       "      <td>A</td>\n",
       "      <td>A104</td>\n",
       "      <td>ניקיון تنظيف</td>\n",
       "      <td>satisfied</td>\n",
       "    </tr>\n",
       "    <tr>\n",
       "      <th>3</th>\n",
       "      <td>2024-03-18 10:08:58.083959+00</td>\n",
       "      <td>A</td>\n",
       "      <td>A104</td>\n",
       "      <td>ניקיון تنظيف</td>\n",
       "      <td>required</td>\n",
       "    </tr>\n",
       "    <tr>\n",
       "      <th>4</th>\n",
       "      <td>2024-03-18 13:54:53.606752+00</td>\n",
       "      <td>טראומה חדש</td>\n",
       "      <td>T5</td>\n",
       "      <td>כח עזר - אוכל</td>\n",
       "      <td>satisfied</td>\n",
       "    </tr>\n",
       "    <tr>\n",
       "      <th>...</th>\n",
       "      <td>...</td>\n",
       "      <td>...</td>\n",
       "      <td>...</td>\n",
       "      <td>...</td>\n",
       "      <td>...</td>\n",
       "    </tr>\n",
       "    <tr>\n",
       "      <th>463892</th>\n",
       "      <td>2025-01-23 10:07:21.914702+00</td>\n",
       "      <td>A</td>\n",
       "      <td>A114</td>\n",
       "      <td>בדיקת רופא</td>\n",
       "      <td>satisfied</td>\n",
       "    </tr>\n",
       "    <tr>\n",
       "      <th>463893</th>\n",
       "      <td>2025-01-23 10:10:50.11309+00</td>\n",
       "      <td>C</td>\n",
       "      <td>C316</td>\n",
       "      <td>בדיקת רופא</td>\n",
       "      <td>satisfied</td>\n",
       "    </tr>\n",
       "    <tr>\n",
       "      <th>463894</th>\n",
       "      <td>2025-01-23 10:14:00.298704+00</td>\n",
       "      <td>A</td>\n",
       "      <td>A104</td>\n",
       "      <td>בדיקת דם</td>\n",
       "      <td>required</td>\n",
       "    </tr>\n",
       "    <tr>\n",
       "      <th>463895</th>\n",
       "      <td>2025-01-23 10:14:00.298704+00</td>\n",
       "      <td>A</td>\n",
       "      <td>A104</td>\n",
       "      <td>תפוס</td>\n",
       "      <td>required</td>\n",
       "    </tr>\n",
       "    <tr>\n",
       "      <th>463896</th>\n",
       "      <td>2025-01-23 10:14:01.423535+00</td>\n",
       "      <td>A</td>\n",
       "      <td>A104</td>\n",
       "      <td>בדיקת רופא</td>\n",
       "      <td>required</td>\n",
       "    </tr>\n",
       "  </tbody>\n",
       "</table>\n",
       "<p>463296 rows × 5 columns</p>\n",
       "</div>"
      ]
     },
     "execution_count": 27,
     "metadata": {},
     "output_type": "execute_result"
    }
   ],
   "execution_count": 27
  }
 ],
 "metadata": {
  "kernelspec": {
   "display_name": "Python 3",
   "language": "python",
   "name": "python3"
  },
  "language_info": {
   "codemirror_mode": {
    "name": "ipython",
    "version": 2
   },
   "file_extension": ".py",
   "mimetype": "text/x-python",
   "name": "python",
   "nbconvert_exporter": "python",
   "pygments_lexer": "ipython2",
   "version": "2.7.6"
  }
 },
 "nbformat": 4,
 "nbformat_minor": 5
}
